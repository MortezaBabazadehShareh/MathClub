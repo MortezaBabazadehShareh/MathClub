{
 "cells": [
  {
   "cell_type": "code",
   "execution_count": 137,
   "metadata": {},
   "outputs": [
    {
     "data": {
      "text/plain": [
       "simple_matrix_multiplication (generic function with 1 method)"
      ]
     },
     "metadata": {},
     "output_type": "display_data"
    }
   ],
   "source": [
    "### My implementaion of simple matrix multiplication (O(n^3))\n",
    "function simple_matrix_multiplication(A::Matrix{T}, B::Matrix{T}) where T<:AbstractFloat\n",
    "    n, m = size(A)\n",
    "    m2, p = size(B)\n",
    "    \n",
    "    C = zeros(T, n, p)\n",
    "    \n",
    "    @inbounds @simd for i in 1:n\n",
    "        @inbounds @simd for j in 1:p\n",
    "            @inbounds @simd for k in 1:m\n",
    "                C[i, j] += A[i, k] * B[k, j]\n",
    "            end\n",
    "        end\n",
    "    end\n",
    "    \n",
    "    return C\n",
    "end\n"
   ]
  },
  {
   "cell_type": "code",
   "execution_count": 162,
   "metadata": {},
   "outputs": [
    {
     "data": {
      "text/plain": [
       "strassen (generic function with 1 method)"
      ]
     },
     "metadata": {},
     "output_type": "display_data"
    }
   ],
   "source": [
    "### implementation of the sterassen matrix multiplication(O(n^2.83))\n",
    "function strassen(A::Matrix{T}, B::Matrix{T}) where T<:AbstractFloat\n",
    "    n = size(A, 1)\n",
    "\n",
    "    if n <= 2\n",
    "        return A * B\n",
    "    else\n",
    "        m = div(n, 2)\n",
    "\n",
    "        # Partition the matrices into submatrices\n",
    "        A11, A12 = A[1:m, 1:m], A[1:m, m+1:n]\n",
    "        A21, A22 = A[m+1:n, 1:m], A[m+1:n, m+1:n]\n",
    "        B11, B12 = B[1:m, 1:m], B[1:m, m+1:n]\n",
    "        B21, B22 = B[m+1:n, 1:m], B[m+1:n, m+1:n]\n",
    "\n",
    "        # Strassen's 7 products\n",
    "        M1 = strassen(A11 + A22, B11 + B22)\n",
    "        M2 = strassen(A21 + A22, B11)\n",
    "        M3 = strassen(A11, B12 - B22)\n",
    "        M4 = strassen(A22, B21 - B11)\n",
    "        M5 = strassen(A11 + A12, B22)\n",
    "        M6 = strassen(A21 - A11, B11 + B12)\n",
    "        M7 = strassen(A12 - A22, B21 + B22)\n",
    "\n",
    "        # Combining the results into the final matrix\n",
    "        C11 = M1 + M4 - M5 + M7\n",
    "        C12 = M3 + M5\n",
    "        C21 = M2 + M4\n",
    "        C22 = M1 - M2 + M3 + M6\n",
    "\n",
    "        # Construct the final matrix from submatrices\n",
    "        C = [C11 C12; C21 C22]\n",
    "        return C\n",
    "    end\n",
    "\n",
    "    \n",
    "end"
   ]
  },
  {
   "cell_type": "code",
   "execution_count": 115,
   "metadata": {},
   "outputs": [
    {
     "data": {
      "text/plain": [
       "hybrid_strassen (generic function with 1 method)"
      ]
     },
     "metadata": {},
     "output_type": "display_data"
    }
   ],
   "source": [
    "### hybrid implementation of the sterassen, the matrices smaller than threshold we use normal multiplication \\n\",\n",
    "function hybrid_strassen(A::Matrix{T}, B::Matrix{T}; threshold::Int = 64) where T<:AbstractFloat\n",
    "    n = size(A, 1)\n",
    "\n",
    "    if n <= threshold\n",
    "        return A * B\n",
    "    else\n",
    "        m = div(n, 2)\n",
    "\n",
    "        A11, A12 = A[1:m, 1:m], A[1:m, m+1:n]\n",
    "        A21, A22 = A[m+1:n, 1:m], A[m+1:n, m+1:n]\n",
    "        B11, B12 = B[1:m, 1:m], B[1:m, m+1:n]\n",
    "        B21, B22 = B[m+1:n, 1:m], B[m+1:n, m+1:n]\n",
    "\n",
    "        M1 = hybrid_strassen(A11 + A22, B11 + B22, threshold=threshold)\n",
    "        M2 = hybrid_strassen(A21 + A22, B11, threshold=threshold)\n",
    "        M3 = hybrid_strassen(A11, B12 - B22, threshold=threshold)\n",
    "        M4 = hybrid_strassen(A22, B21 - B11, threshold=threshold)\n",
    "        M5 = hybrid_strassen(A11 + A12, B22, threshold=threshold)\n",
    "        M6 = hybrid_strassen(A21 - A11, B11 + B12, threshold=threshold)\n",
    "        M7 = hybrid_strassen(A12 - A22, B21 + B22, threshold=threshold)\n",
    "\n",
    "        C11 = M1 + M4 - M5 + M7\n",
    "        C12 = M3 + M5\n",
    "        C21 = M2 + M4\n",
    "        C22 = M1 - M2 + M3 + M6\n",
    "\n",
    "        return [C11 C12; C21 C22]\n",
    "    end\n",
    "end"
   ]
  },
  {
   "cell_type": "code",
   "execution_count": 157,
   "metadata": {},
   "outputs": [
    {
     "data": {
      "text/plain": [
       "hybrid_strassen_gpu (generic function with 1 method)"
      ]
     },
     "metadata": {},
     "output_type": "display_data"
    }
   ],
   "source": [
    "# implementation of the GPU-accelerated hybrid Strassen function\n",
    "    function hybrid_strassen_gpu(A::Matrix{T}, B::Matrix{T}; threshold::Int = 64) where T<:AbstractFloat\n",
    "        n = size(A, 1)\n",
    "    \n",
    "        # Base case: Use standard multiplication on the GPU for small matrices\n",
    "        if n <= threshold\n",
    "            A_gpu = CuArray(A)\n",
    "            B_gpu = CuArray(B)\n",
    "            return A_gpu * B_gpu\n",
    "        else\n",
    "            m = div(n, 2)\n",
    "    \n",
    "            # Partition the matrices into submatrices\n",
    "            A11, A12 = A[1:m, 1:m], A[1:m, m+1:n]\n",
    "            A21, A22 = A[m+1:n, 1:m], A[m+1:n, m+1:n]\n",
    "            B11, B12 = B[1:m, 1:m], B[1:m, m+1:n]\n",
    "            B21, B22 = B[m+1:n, 1:m], B[m+1:n, m+1:n]\n",
    "    \n",
    "            # Recursively calculate the 7 products using hybrid Strassen's method\n",
    "            M1 = hybrid_strassen_gpu(A11 + A22, B11 + B22, threshold=threshold)\n",
    "            M2 = hybrid_strassen_gpu(A21 + A22, B11, threshold=threshold)\n",
    "            M3 = hybrid_strassen_gpu(A11, B12 - B22, threshold=threshold)\n",
    "            M4 = hybrid_strassen_gpu(A22, B21 - B11, threshold=threshold)\n",
    "            M5 = hybrid_strassen_gpu(A11 + A12, B22, threshold=threshold)\n",
    "            M6 = hybrid_strassen_gpu(A21 - A11, B11 + B12, threshold=threshold)\n",
    "            M7 = hybrid_strassen_gpu(A12 - A22, B21 + B22, threshold=threshold)\n",
    "    \n",
    "            # Combining the results into the final matrix\n",
    "            C11 = M1 + M4 - M5 + M7\n",
    "            C12 = M3 + M5\n",
    "            C21 = M2 + M4\n",
    "            C22 = M1 - M2 + M3 + M6\n",
    "    \n",
    "            # Combine the results into a full matrix\n",
    "            C = vcat(hcat(C11, C12), hcat(C21, C22))\n",
    "    \n",
    "            return C\n",
    "        end\n",
    "    end"
   ]
  },
  {
   "cell_type": "code",
   "execution_count": 5,
   "metadata": {},
   "outputs": [
    {
     "data": {
      "text/plain": [
       "pad_matrix (generic function with 1 method)"
      ]
     },
     "metadata": {},
     "output_type": "display_data"
    }
   ],
   "source": [
    "#padding the matrix to make it n*n where n=2^k, this is the only suitable size for Strassen algorithm\n",
    "function pad_matrix(M1::Matrix{T}, M2::Matrix{T} ) where T<:AbstractFloat\n",
    "    n=2^ceil(Int, log2(max(size(M1)[1], size(M1)[2], size(M2)[2])))\n",
    "    padded_M1 = zeros(T, n, n)\n",
    "    original_size = size(M1)\n",
    "    padded_M1[1:original_size[1], 1:original_size[2]] = M1\n",
    "\n",
    "    padded_M2 = zeros(T, n, n)\n",
    "    original_size = size(M2)\n",
    "    padded_M2[1:original_size[1], 1:original_size[2]] = M2\n",
    "\n",
    "    return padded_M1, padded_M2\n",
    "end"
   ]
  },
  {
   "cell_type": "code",
   "execution_count": 133,
   "metadata": {},
   "outputs": [],
   "source": [
    "#example A and B for multipllication\n",
    "n = 4\n",
    "m=4\n",
    "k=4\n",
    "A = rand(Float32, n, m);\n",
    "B = rand(Float32, m, k);"
   ]
  },
  {
   "cell_type": "code",
   "execution_count": 138,
   "metadata": {},
   "outputs": [
    {
     "name": "stdout",
     "output_type": "stream",
     "text": [
      "  0.043663 seconds (18.64 k allocations: 1.236 MiB, 99.90% compilation time)\n"
     ]
    },
    {
     "data": {
      "text/plain": [
       "4×4 Matrix{Float32}:\n",
       " 0.835684  0.651034  0.202926  0.742347\n",
       " 1.20989   1.01573   0.394657  1.01885\n",
       " 0.335738  0.318568  0.119275  0.363165\n",
       " 0.954904  1.14983   1.01012   0.933305"
      ]
     },
     "metadata": {},
     "output_type": "display_data"
    }
   ],
   "source": [
    "@time C = simple_matrix_multiplication(A, B)"
   ]
  },
  {
   "cell_type": "code",
   "execution_count": 163,
   "metadata": {},
   "outputs": [
    {
     "name": "stdout",
     "output_type": "stream",
     "text": [
      "  0.047477 seconds (22.95 k allocations: 1.307 MiB, 99.90% compilation time)\n"
     ]
    },
    {
     "data": {
      "text/plain": [
       "4×4 Matrix{Float32}:\n",
       " 0.835684  0.651034  0.202926  0.742346\n",
       " 1.20989   1.01573   0.394657  1.01885\n",
       " 0.335738  0.318568  0.119275  0.363165\n",
       " 0.954904  1.14983   1.01012   0.933305"
      ]
     },
     "metadata": {},
     "output_type": "display_data"
    }
   ],
   "source": [
    "padded_A, padded_B = pad_matrix(A, B)\n",
    "@time C_padded = strassen(padded_A, padded_B)\n",
    "C1 = C_padded[1:size(A)[1], 1:size(B)[2]]"
   ]
  },
  {
   "cell_type": "code",
   "execution_count": 139,
   "metadata": {},
   "outputs": [
    {
     "name": "stdout",
     "output_type": "stream",
     "text": [
      "  0.000010 seconds (1 allocation: 128 bytes)\n"
     ]
    },
    {
     "data": {
      "text/plain": [
       "4×4 Matrix{Float32}:\n",
       " 0.835684  0.651034  0.202926  0.742346\n",
       " 1.20989   1.01573   0.394657  1.01885\n",
       " 0.335738  0.318568  0.119275  0.363165\n",
       " 0.954904  1.14983   1.01012   0.933305"
      ]
     },
     "metadata": {},
     "output_type": "display_data"
    }
   ],
   "source": [
    "padded_A, padded_B = pad_matrix(A, B)\n",
    "@time C_padded = hybrid_strassen(padded_A, padded_B)\n",
    "C2 = C_padded[1:size(A)[1], 1:size(B)[2]]"
   ]
  },
  {
   "cell_type": "code",
   "execution_count": 161,
   "metadata": {},
   "outputs": [
    {
     "name": "stdout",
     "output_type": "stream",
     "text": [
      "  0.539819 seconds (65 allocations: 1.656 KiB)\n"
     ]
    },
    {
     "data": {
      "text/plain": [
       "4×4 Matrix{Float32}:\n",
       " 0.835684  0.651034  0.202926  0.742347\n",
       " 1.20989   1.01573   0.394657  1.01885\n",
       " 0.335738  0.318568  0.119275  0.363165\n",
       " 0.954904  1.14983   1.01012   0.933305"
      ]
     },
     "metadata": {},
     "output_type": "display_data"
    }
   ],
   "source": [
    "@time C_padded = hybrid_strassen_gpu(padded_A, padded_B)\n",
    "C3 = C_padded[1:size(A)[1], 1:size(B)[2]]\n",
    "C3=Array(C3)"
   ]
  },
  {
   "cell_type": "code",
   "execution_count": 142,
   "metadata": {},
   "outputs": [
    {
     "name": "stdout",
     "output_type": "stream",
     "text": [
      "  0.000035 seconds (1 allocation: 128 bytes)\n"
     ]
    },
    {
     "data": {
      "text/plain": [
       "4×4 Matrix{Float32}:\n",
       " 0.835684  0.651034  0.202926  0.742346\n",
       " 1.20989   1.01573   0.394657  1.01885\n",
       " 0.335738  0.318568  0.119275  0.363165\n",
       " 0.954904  1.14983   1.01012   0.933305"
      ]
     },
     "metadata": {},
     "output_type": "display_data"
    }
   ],
   "source": [
    "@time C4=A*B"
   ]
  },
  {
   "cell_type": "code",
   "execution_count": 164,
   "metadata": {},
   "outputs": [
    {
     "data": {
      "text/plain": [
       "true"
      ]
     },
     "metadata": {},
     "output_type": "display_data"
    }
   ],
   "source": [
    "isapprox(C4, C1)"
   ]
  }
 ],
 "metadata": {
  "kernelspec": {
   "display_name": "Julia 1.10.3",
   "language": "julia",
   "name": "julia-1.10"
  },
  "language_info": {
   "file_extension": ".jl",
   "mimetype": "application/julia",
   "name": "julia",
   "version": "1.10.3"
  }
 },
 "nbformat": 4,
 "nbformat_minor": 2
}
