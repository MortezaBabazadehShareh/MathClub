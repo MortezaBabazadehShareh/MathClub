{
 "cells": [
  {
   "cell_type": "code",
   "execution_count": 83,
   "metadata": {},
   "outputs": [
    {
     "data": {
      "text/plain": [
       "simple_matrix_multiplication (generic function with 1 method)"
      ]
     },
     "metadata": {},
     "output_type": "display_data"
    }
   ],
   "source": [
    "### My implementaion of simple matrix multiplication (O(n^3))\n",
    "function simple_matrix_multiplication(A::Matrix{T}, B::Matrix{T}) where T<:AbstractFloat\n",
    "    n, m = size(A)\n",
    "    m2, p = size(B)\n",
    "    \n",
    "    C = zeros(T, n, p)\n",
    "    \n",
    "    @inbounds @simd for i in 1:n\n",
    "        @inbounds @simd for j in 1:p\n",
    "            @inbounds @simd for k in 1:m\n",
    "                C[i, j] += A[i, k] * B[k, j]\n",
    "            end\n",
    "        end\n",
    "    end\n",
    "    \n",
    "    return C\n",
    "end\n"
   ]
  },
  {
   "cell_type": "code",
   "execution_count": 111,
   "metadata": {},
   "outputs": [
    {
     "data": {
      "text/plain": [
       "simple_matrix_multiplication1 (generic function with 1 method)"
      ]
     },
     "metadata": {},
     "output_type": "display_data"
    }
   ],
   "source": [
    "### My implementaion of simple matrix multiplication (O(n^3))\n",
    "function simple_matrix_multiplication1(A::Matrix{T}, B::Matrix{T}) where T<:AbstractFloat\n",
    "    n, m = size(A)\n",
    "    m2, p = size(B)\n",
    "    \n",
    "    C = zeros(T, n, p)\n",
    "    \n",
    "    @inbounds @simd for i in 1:n\n",
    "        @inbounds @simd for j in 1:p\n",
    "            #@inbounds @simd for k in 1:m\n",
    "                #C[i, j] = sum((@view A[i, :]) .* (@view B[:, j]))\n",
    "                C[i, j]=mapreduce(+, *,  A[i, :], B[:, j])\n",
    "            #end\n",
    "        end\n",
    "    end\n",
    "    \n",
    "    return C\n",
    "end\n"
   ]
  },
  {
   "cell_type": "code",
   "execution_count": 5,
   "metadata": {},
   "outputs": [
    {
     "data": {
      "text/plain": [
       "pad_matrix (generic function with 1 method)"
      ]
     },
     "metadata": {},
     "output_type": "display_data"
    }
   ],
   "source": [
    "#padding the matrix to make it n*n where n=2^k, this is the only suitable size for Strassen algorithm\n",
    "function pad_matrix(M1::Matrix{T}, M2::Matrix{T} ) where T<:AbstractFloat\n",
    "    n=2^ceil(Int, log2(max(size(M1)[1], size(M1)[2], size(M2)[2])))\n",
    "    padded_M1 = zeros(T, n, n)\n",
    "    original_size = size(M1)\n",
    "    padded_M1[1:original_size[1], 1:original_size[2]] = M1\n",
    "\n",
    "    padded_M2 = zeros(T, n, n)\n",
    "    original_size = size(M2)\n",
    "    padded_M2[1:original_size[1], 1:original_size[2]] = M2\n",
    "\n",
    "    return padded_M1, padded_M2\n",
    "end"
   ]
  },
  {
   "cell_type": "code",
   "execution_count": 52,
   "metadata": {},
   "outputs": [],
   "source": [
    "#example A and B for multipllication\n",
    "n = 128\n",
    "m=128\n",
    "k=128\n",
    "A = rand(Float32, n, m);\n",
    "B = rand(Float32, m, k);"
   ]
  },
  {
   "cell_type": "code",
   "execution_count": 108,
   "metadata": {},
   "outputs": [
    {
     "name": "stdout",
     "output_type": "stream",
     "text": [
      "  0.031414 seconds (147.46 k allocations: 16.813 MiB, 28.51% gc time)\n"
     ]
    }
   ],
   "source": [
    "@time C = simple_matrix_multiplication(A, B);"
   ]
  },
  {
   "cell_type": "code",
   "execution_count": 11,
   "metadata": {},
   "outputs": [
    {
     "name": "stdout",
     "output_type": "stream",
     "text": [
      "  0.075309 seconds (627.46 k allocations: 57.024 MiB, 39.51% gc time)\n"
     ]
    }
   ],
   "source": [
    "padded_A, padded_B = pad_matrix(A, B)\n",
    "@time C_padded = strassen(padded_A, padded_B)\n",
    "C = C_padded[1:size(A)[1], 1:size(B)[2]];"
   ]
  },
  {
   "cell_type": "code",
   "execution_count": 14,
   "metadata": {},
   "outputs": [
    {
     "name": "stdout",
     "output_type": "stream",
     "text": [
      "  0.000236 seconds (34 allocations: 580.047 KiB)\n"
     ]
    }
   ],
   "source": [
    "padded_A, padded_B = pad_matrix(A, B)\n",
    "@time C_padded = hybrid_strassen(padded_A, padded_B)\n",
    "C = C_padded[1:size(A)[1], 1:size(B)[2]];"
   ]
  },
  {
   "cell_type": "code",
   "execution_count": 17,
   "metadata": {},
   "outputs": [
    {
     "name": "stdout",
     "output_type": "stream",
     "text": [
      "  0.003339 seconds (899 allocations: 313.234 KiB)\n"
     ]
    }
   ],
   "source": [
    "@time C_padded = hybrid_strassen_gpu(padded_A, padded_B)\n",
    "C = C_padded[1:size(A)[1], 1:size(B)[2]];"
   ]
  },
  {
   "cell_type": "code",
   "execution_count": 57,
   "metadata": {},
   "outputs": [
    {
     "name": "stdout",
     "output_type": "stream",
     "text": [
      "  0.000285 seconds (2 allocations: 64.047 KiB)\n"
     ]
    }
   ],
   "source": [
    "@time C=A*B;"
   ]
  }
 ],
 "metadata": {
  "kernelspec": {
   "display_name": "Julia 1.10.3",
   "language": "julia",
   "name": "julia-1.10"
  },
  "language_info": {
   "file_extension": ".jl",
   "mimetype": "application/julia",
   "name": "julia",
   "version": "1.10.3"
  }
 },
 "nbformat": 4,
 "nbformat_minor": 2
}
