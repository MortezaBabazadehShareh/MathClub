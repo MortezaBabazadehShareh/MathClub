{
 "cells": [
  {
   "cell_type": "code",
   "execution_count": 95,
   "metadata": {},
   "outputs": [
    {
     "data": {
      "text/plain": [
       "simple_matrix_multiplication (generic function with 2 methods)"
      ]
     },
     "metadata": {},
     "output_type": "display_data"
    }
   ],
   "source": [
    "### My implementaion of simple matrix multiplication (O(n^3))\n",
    "function simple_matrix_multiplication(A::Matrix{T}, B::Matrix{T}) where T<:AbstractFloat\n",
    "    n, m = size(A)\n",
    "    m2, p = size(B)\n",
    "    \n",
    "    C = zeros(T, n, p)\n",
    "    \n",
    "    for i in 1:n\n",
    "        for j in 1:p\n",
    "            for k in 1:m\n",
    "                C[i, j] += A[i, k] * B[k, j]\n",
    "            end\n",
    "        end\n",
    "    end\n",
    "    \n",
    "    return C\n",
    "end\n"
   ]
  },
  {
   "cell_type": "code",
   "execution_count": 96,
   "metadata": {},
   "outputs": [
    {
     "data": {
      "text/plain": [
       "strassen (generic function with 2 methods)"
      ]
     },
     "metadata": {},
     "output_type": "display_data"
    }
   ],
   "source": [
    "### implementation of the sterassen matrix multiplication(O(n^2.83))\n",
    "function strassen(A::Matrix{T}, B::Matrix{T}) where T<:AbstractFloat\n",
    "    n = size(A, 1)\n",
    "    \n",
    "    if n <= 2\n",
    "        return A * B\n",
    "    else\n",
    "        m = div(n, 2)\n",
    "\n",
    "        # Partition the matrices into submatrices\n",
    "        A11, A12 = A[1:m, 1:m], A[1:m, m+1:n]\n",
    "        A21, A22 = A[m+1:n, 1:m], A[m+1:n, m+1:n]\n",
    "        B11, B12 = B[1:m, 1:m], B[1:m, m+1:n]\n",
    "        B21, B22 = B[m+1:n, 1:m], B[m+1:n, m+1:n]\n",
    "\n",
    "        # Strassen's 7 products\n",
    "        M1 = strassen(A11 + A22, B11 + B22)\n",
    "        M2 = strassen(A21 + A22, B11)\n",
    "        M3 = strassen(A11, B12 - B22)\n",
    "        M4 = strassen(A22, B21 - B11)\n",
    "        M5 = strassen(A11 + A12, B22)\n",
    "        M6 = strassen(A21 - A11, B11 + B12)\n",
    "        M7 = strassen(A12 - A22, B21 + B22)\n",
    "\n",
    "        # Combining the results into the final matrix\n",
    "        C11 = M1 + M4 - M5 + M7\n",
    "        C12 = M3 + M5\n",
    "        C21 = M2 + M4\n",
    "        C22 = M1 - M2 + M3 + M6\n",
    "\n",
    "        # Construct the final matrix from submatrices\n",
    "        C = [C11 C12; C21 C22]\n",
    "\n",
    "        return C\n",
    "    end\n",
    "end\n"
   ]
  },
  {
   "cell_type": "code",
   "execution_count": 97,
   "metadata": {},
   "outputs": [
    {
     "data": {
      "text/plain": [
       "hybrid_strassen (generic function with 2 methods)"
      ]
     },
     "metadata": {},
     "output_type": "display_data"
    }
   ],
   "source": [
    "### hybrid implementation of the sterassen, the matrices smaller than threshold we use normal multiplication \n",
    "function hybrid_strassen(A::Matrix{T}, B::Matrix{T}; threshold::Int = 64) where T<:AbstractFloat\n",
    "    n = size(A, 1)\n",
    "\n",
    "    if n <= threshold\n",
    "        return A * B\n",
    "    else\n",
    "        m = div(n, 2)\n",
    "\n",
    "        A11, A12 = A[1:m, 1:m], A[1:m, m+1:n]\n",
    "        A21, A22 = A[m+1:n, 1:m], A[m+1:n, m+1:n]\n",
    "        B11, B12 = B[1:m, 1:m], B[1:m, m+1:n]\n",
    "        B21, B22 = B[m+1:n, 1:m], B[m+1:n, m+1:n]\n",
    "\n",
    "        M1 = hybrid_strassen(A11 + A22, B11 + B22, threshold=threshold)\n",
    "        M2 = hybrid_strassen(A21 + A22, B11, threshold=threshold)\n",
    "        M3 = hybrid_strassen(A11, B12 - B22, threshold=threshold)\n",
    "        M4 = hybrid_strassen(A22, B21 - B11, threshold=threshold)\n",
    "        M5 = hybrid_strassen(A11 + A12, B22, threshold=threshold)\n",
    "        M6 = hybrid_strassen(A21 - A11, B11 + B12, threshold=threshold)\n",
    "        M7 = hybrid_strassen(A12 - A22, B21 + B22, threshold=threshold)\n",
    "\n",
    "        C11 = M1 + M4 - M5 + M7\n",
    "        C12 = M3 + M5\n",
    "        C21 = M2 + M4\n",
    "        C22 = M1 - M2 + M3 + M6\n",
    "\n",
    "        return [C11 C12; C21 C22]\n",
    "    end\n",
    "end\n"
   ]
  },
  {
   "cell_type": "code",
   "execution_count": 98,
   "metadata": {},
   "outputs": [
    {
     "data": {
      "text/plain": [
       "hybrid_strassen_gpu (generic function with 2 methods)"
      ]
     },
     "metadata": {},
     "output_type": "display_data"
    }
   ],
   "source": [
    "using CUDA\n",
    "\n",
    "# implementation of the GPU-accelerated hybrid Strassen function\n",
    "function hybrid_strassen_gpu(A::Matrix{T}, B::Matrix{T}; threshold::Int = 64) where T<:AbstractFloat\n",
    "    n = size(A, 1)\n",
    "\n",
    "    # Base case: Use standard multiplication on the GPU for small matrices\n",
    "    if n <= threshold\n",
    "        A_gpu = CuArray(A)\n",
    "        B_gpu = CuArray(B)\n",
    "        return A_gpu * B_gpu\n",
    "    else\n",
    "        m = div(n, 2)\n",
    "\n",
    "        # Partition the matrices into submatrices\n",
    "        A11, A12 = A[1:m, 1:m], A[1:m, m+1:n]\n",
    "        A21, A22 = A[m+1:n, 1:m], A[m+1:n, m+1:n]\n",
    "        B11, B12 = B[1:m, 1:m], B[1:m, m+1:n]\n",
    "        B21, B22 = B[m+1:n, 1:m], B[m+1:n, m+1:n]\n",
    "\n",
    "        # Recursively calculate the 7 products using hybrid Strassen's method\n",
    "        M1 = hybrid_strassen_gpu(A11 + A22, B11 + B22, threshold=threshold)\n",
    "        M2 = hybrid_strassen_gpu(A21 + A22, B11, threshold=threshold)\n",
    "        M3 = hybrid_strassen_gpu(A11, B12 - B22, threshold=threshold)\n",
    "        M4 = hybrid_strassen_gpu(A22, B21 - B11, threshold=threshold)\n",
    "        M5 = hybrid_strassen_gpu(A11 + A12, B22, threshold=threshold)\n",
    "        M6 = hybrid_strassen_gpu(A21 - A11, B11 + B12, threshold=threshold)\n",
    "        M7 = hybrid_strassen_gpu(A12 - A22, B21 + B22, threshold=threshold)\n",
    "\n",
    "        # Combining the results into the final matrix\n",
    "        C11 = M1 + M4 - M5 + M7\n",
    "        C12 = M3 + M5\n",
    "        C21 = M2 + M4\n",
    "        C22 = M1 - M2 + M3 + M6\n",
    "\n",
    "        # Combine the results into a full matrix\n",
    "        C = vcat(hcat(C11, C12), hcat(C21, C22))\n",
    "\n",
    "        return C\n",
    "    end\n",
    "end"
   ]
  },
  {
   "cell_type": "code",
   "execution_count": 99,
   "metadata": {},
   "outputs": [
    {
     "data": {
      "text/plain": [
       "pad_matrix (generic function with 3 methods)"
      ]
     },
     "metadata": {},
     "output_type": "display_data"
    }
   ],
   "source": [
    "#padding the matrix to make it n*n where n=2^k, this is the only suitable size for Strassen algorithm\n",
    "function pad_matrix(M1::Matrix{T}, M2::Matrix{T} ) where T<:AbstractFloat\n",
    "    n=2^ceil(Int, log2(max(size(M1)[1], size(M1)[2], size(M2)[2])))\n",
    "    padded_M1 = zeros(T, n, n)\n",
    "    original_size = size(M1)\n",
    "    padded_M1[1:original_size[1], 1:original_size[2]] = M1\n",
    "\n",
    "    padded_M2 = zeros(T, n, n)\n",
    "    original_size = size(M2)\n",
    "    padded_M2[1:original_size[1], 1:original_size[2]] = M2\n",
    "\n",
    "    return padded_M1, padded_M2\n",
    "end"
   ]
  },
  {
   "cell_type": "code",
   "execution_count": 100,
   "metadata": {},
   "outputs": [],
   "source": [
    "#example A and B for multipllication\n",
    "n = 128\n",
    "m=128\n",
    "k=128\n",
    "A = rand(Float32, n, m);\n",
    "B = rand(Float32, m, k);"
   ]
  },
  {
   "cell_type": "code",
   "execution_count": 103,
   "metadata": {},
   "outputs": [
    {
     "name": "stdout",
     "output_type": "stream",
     "text": [
      "  0.002400 seconds (2 allocations: 64.047 KiB)\n"
     ]
    }
   ],
   "source": [
    "@time C = simple_matrix_multiplication(A, B);"
   ]
  },
  {
   "cell_type": "code",
   "execution_count": 104,
   "metadata": {},
   "outputs": [
    {
     "name": "stdout",
     "output_type": "stream",
     "text": [
      "  0.044818 seconds (627.46 k allocations: 57.024 MiB, 6.85% gc time)\n"
     ]
    }
   ],
   "source": [
    "padded_A, padded_B = pad_matrix(A, B)\n",
    "@time C_padded = strassen(padded_A, padded_B)\n",
    "C = C_padded[1:size(A)[1], 1:size(B)[2]]"
   ]
  },
  {
   "cell_type": "code",
   "execution_count": 108,
   "metadata": {},
   "outputs": [
    {
     "name": "stdout",
     "output_type": "stream",
     "text": [
      "  0.000341 seconds (34 allocations: 580.047 KiB)\n"
     ]
    }
   ],
   "source": [
    "padded_A, padded_B = pad_matrix(A, B)\n",
    "@time C_padded = hybrid_strassen(padded_A, padded_B)\n",
    "C = C_padded[1:size(A)[1], 1:size(B)[2]]"
   ]
  },
  {
   "cell_type": "code",
   "execution_count": 106,
   "metadata": {},
   "outputs": [
    {
     "name": "stdout",
     "output_type": "stream",
     "text": [
      "  0.610302 seconds (44.36 k allocations: 2.725 MiB, 9.51% compilation time)\n"
     ]
    }
   ],
   "source": [
    "@time C_padded = hybrid_strassen_gpu(padded_A, padded_B)\n",
    "C = C_padded[1:size(A)[1], 1:size(B)[2]]"
   ]
  },
  {
   "cell_type": "code",
   "execution_count": 109,
   "metadata": {},
   "outputs": [
    {
     "name": "stdout",
     "output_type": "stream",
     "text": [
      "  0.000294 seconds (2 allocations: 64.047 KiB)\n"
     ]
    }
   ],
   "source": [
    "@time A*B"
   ]
  }
 ],
 "metadata": {
  "kernelspec": {
   "display_name": "Julia 1.10.3",
   "language": "julia",
   "name": "julia-1.10"
  },
  "language_info": {
   "file_extension": ".jl",
   "mimetype": "application/julia",
   "name": "julia",
   "version": "1.10.3"
  }
 },
 "nbformat": 4,
 "nbformat_minor": 2
}
