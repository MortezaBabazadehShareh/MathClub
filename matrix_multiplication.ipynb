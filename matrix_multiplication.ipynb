{
 "cells": [
  {
   "cell_type": "code",
   "execution_count": 83,
   "metadata": {},
   "outputs": [
    {
     "data": {
      "text/plain": [
       "simple_matrix_multiplication (generic function with 1 method)"
      ]
     },
     "metadata": {},
     "output_type": "display_data"
    }
   ],
   "source": [
    "### My implementaion of simple matrix multiplication (O(n^3))\n",
    "function simple_matrix_multiplication(A::Matrix{T}, B::Matrix{T}) where T<:AbstractFloat\n",
    "    n, m = size(A)\n",
    "    m2, p = size(B)\n",
    "    \n",
    "    C = zeros(T, n, p)\n",
    "    \n",
    "    @inbounds @simd for i in 1:n\n",
    "        @inbounds @simd for j in 1:p\n",
    "            @inbounds @simd for k in 1:m\n",
    "                C[i, j] += A[i, k] * B[k, j]\n",
    "            end\n",
    "        end\n",
    "    end\n",
    "    \n",
    "    return C\n",
    "end\n"
   ]
  },
  {
   "cell_type": "code",
   "execution_count": 97,
   "metadata": {},
   "outputs": [
    {
     "data": {
      "text/plain": [
       "simple_matrix_multiplication (generic function with 1 method)"
      ]
     },
     "metadata": {},
     "output_type": "display_data"
    }
   ],
   "source": [
    "### My implementaion of simple matrix multiplication (O(n^3))\n",
    "function simple_matrix_multiplication(A::Matrix{T}, B::Matrix{T}) where T<:AbstractFloat\n",
    "    n, m = size(A)\n",
    "    m2, p = size(B)\n",
    "    \n",
    "    C = zeros(T, n, p)\n",
    "    \n",
    "    @inbounds @simd for i in 1:n\n",
    "        @inbounds @simd for j in 1:p\n",
    "            #@inbounds @simd for k in 1:m\n",
    "                C[i, j] = sum(@view A[i, :] .* @view B[:, j])\n",
    "                #C[i, j]=mapreduce(+, *,  A[i, :],  B[:, j])\n",
    "            #end\n",
    "        end\n",
    "    end\n",
    "    \n",
    "    return C\n",
    "end\n"
   ]
  },
  {
   "cell_type": "code",
   "execution_count": 96,
   "metadata": {},
   "outputs": [
    {
     "data": {
      "text/plain": [
       "351384"
      ]
     },
     "metadata": {},
     "output_type": "display_data"
    }
   ],
   "source": [
    "mapreduce(+, *,  [1,2,3,4], [10,20,30,40])"
   ]
  },
  {
   "cell_type": "markdown",
   "metadata": {},
   "source": []
  },
  {
   "cell_type": "code",
   "execution_count": 5,
   "metadata": {},
   "outputs": [
    {
     "data": {
      "text/plain": [
       "pad_matrix (generic function with 1 method)"
      ]
     },
     "metadata": {},
     "output_type": "display_data"
    }
   ],
   "source": [
    "#padding the matrix to make it n*n where n=2^k, this is the only suitable size for Strassen algorithm\n",
    "function pad_matrix(M1::Matrix{T}, M2::Matrix{T} ) where T<:AbstractFloat\n",
    "    n=2^ceil(Int, log2(max(size(M1)[1], size(M1)[2], size(M2)[2])))\n",
    "    padded_M1 = zeros(T, n, n)\n",
    "    original_size = size(M1)\n",
    "    padded_M1[1:original_size[1], 1:original_size[2]] = M1\n",
    "\n",
    "    padded_M2 = zeros(T, n, n)\n",
    "    original_size = size(M2)\n",
    "    padded_M2[1:original_size[1], 1:original_size[2]] = M2\n",
    "\n",
    "    return padded_M1, padded_M2\n",
    "end"
   ]
  },
  {
   "cell_type": "code",
   "execution_count": 52,
   "metadata": {},
   "outputs": [],
   "source": [
    "#example A and B for multipllication\n",
    "n = 128\n",
    "m=128\n",
    "k=128\n",
    "A = rand(Float32, n, m);\n",
    "B = rand(Float32, m, k);"
   ]
  },
  {
   "cell_type": "code",
   "execution_count": 98,
   "metadata": {},
   "outputs": [
    {
     "name": "stdout",
     "output_type": "stream",
     "text": [
      "  109.082 ms (114690 allocations: 28.81 MiB)\n"
     ]
    }
   ],
   "source": [
    "@btime C = simple_matrix_multiplication(A, B);"
   ]
  },
  {
   "cell_type": "code",
   "execution_count": 11,
   "metadata": {},
   "outputs": [
    {
     "name": "stdout",
     "output_type": "stream",
     "text": [
      "  0.075309 seconds (627.46 k allocations: 57.024 MiB, 39.51% gc time)\n"
     ]
    }
   ],
   "source": [
    "padded_A, padded_B = pad_matrix(A, B)\n",
    "@time C_padded = strassen(padded_A, padded_B)\n",
    "C = C_padded[1:size(A)[1], 1:size(B)[2]];"
   ]
  },
  {
   "cell_type": "code",
   "execution_count": 14,
   "metadata": {},
   "outputs": [
    {
     "name": "stdout",
     "output_type": "stream",
     "text": [
      "  0.000236 seconds (34 allocations: 580.047 KiB)\n"
     ]
    }
   ],
   "source": [
    "padded_A, padded_B = pad_matrix(A, B)\n",
    "@time C_padded = hybrid_strassen(padded_A, padded_B)\n",
    "C = C_padded[1:size(A)[1], 1:size(B)[2]];"
   ]
  },
  {
   "cell_type": "code",
   "execution_count": 17,
   "metadata": {},
   "outputs": [
    {
     "name": "stdout",
     "output_type": "stream",
     "text": [
      "  0.003339 seconds (899 allocations: 313.234 KiB)\n"
     ]
    }
   ],
   "source": [
    "@time C_padded = hybrid_strassen_gpu(padded_A, padded_B)\n",
    "C = C_padded[1:size(A)[1], 1:size(B)[2]];"
   ]
  },
  {
   "cell_type": "code",
   "execution_count": null,
   "metadata": {},
   "outputs": [],
   "source": []
  },
  {
   "cell_type": "code",
   "execution_count": 57,
   "metadata": {},
   "outputs": [
    {
     "name": "stdout",
     "output_type": "stream",
     "text": [
      "  0.000285 seconds (2 allocations: 64.047 KiB)\n"
     ]
    }
   ],
   "source": [
    "@time C=A*B;"
   ]
  },
  {
   "cell_type": "code",
   "execution_count": 24,
   "metadata": {},
   "outputs": [
    {
     "name": "stdout",
     "output_type": "stream",
     "text": [
      "\u001b[90m;  @ C:\\workdir\\usr\\share\\julia\\stdlib\\v1.10\\LinearAlgebra\\src\\matmul.jl:111 within `*`\u001b[39m\n",
      "\u001b[90m; Function Attrs: uwtable\u001b[39m\n",
      "\u001b[95mdefine\u001b[39m \u001b[95mnonnull\u001b[39m \u001b[33m{\u001b[39m\u001b[33m}\u001b[39m\u001b[0m* \u001b[93m@\"julia_\u001b[39m\u001b[0m*\u001b[0m_4139\"\u001b[33m(\u001b[39m\u001b[33m{\u001b[39m\u001b[33m}\u001b[39m\u001b[0m* \u001b[95mnoundef\u001b[39m \u001b[95mnonnull\u001b[39m \u001b[95malign\u001b[39m \u001b[33m16\u001b[39m \u001b[95mdereferenceable\u001b[39m\u001b[33m(\u001b[39m\u001b[33m40\u001b[39m\u001b[33m)\u001b[39m \u001b[0m%0\u001b[0m, \u001b[33m{\u001b[39m\u001b[33m}\u001b[39m\u001b[0m* \u001b[95mnoundef\u001b[39m \u001b[95mnonnull\u001b[39m \u001b[95malign\u001b[39m \u001b[33m16\u001b[39m \u001b[95mdereferenceable\u001b[39m\u001b[33m(\u001b[39m\u001b[33m40\u001b[39m\u001b[33m)\u001b[39m \u001b[0m%1\u001b[33m)\u001b[39m \u001b[0m#0 \u001b[33m{\u001b[39m\n",
      "\u001b[91mL72:\u001b[39m\n",
      "  \u001b[0m%gcframe45 \u001b[0m= \u001b[96m\u001b[1malloca\u001b[22m\u001b[39m \u001b[33m[\u001b[39m\u001b[33m3\u001b[39m \u001b[0mx \u001b[33m{\u001b[39m\u001b[33m}\u001b[39m\u001b[0m*\u001b[33m]\u001b[39m\u001b[0m, \u001b[95malign\u001b[39m \u001b[33m16\u001b[39m\n",
      "  \u001b[0m%gcframe45.sub \u001b[0m= \u001b[96m\u001b[1mgetelementptr\u001b[22m\u001b[39m \u001b[95minbounds\u001b[39m \u001b[33m[\u001b[39m\u001b[33m3\u001b[39m \u001b[0mx \u001b[33m{\u001b[39m\u001b[33m}\u001b[39m\u001b[0m*\u001b[33m]\u001b[39m\u001b[0m, \u001b[33m[\u001b[39m\u001b[33m3\u001b[39m \u001b[0mx \u001b[33m{\u001b[39m\u001b[33m}\u001b[39m\u001b[0m*\u001b[33m]\u001b[39m\u001b[0m* \u001b[0m%gcframe45\u001b[0m, \u001b[36mi64\u001b[39m \u001b[33m0\u001b[39m\u001b[0m, \u001b[36mi64\u001b[39m \u001b[33m0\u001b[39m\n",
      "  \u001b[0m%2 \u001b[0m= \u001b[96m\u001b[1mbitcast\u001b[22m\u001b[39m \u001b[33m[\u001b[39m\u001b[33m3\u001b[39m \u001b[0mx \u001b[33m{\u001b[39m\u001b[33m}\u001b[39m\u001b[0m*\u001b[33m]\u001b[39m\u001b[0m* \u001b[0m%gcframe45 \u001b[95mto\u001b[39m \u001b[36mi8\u001b[39m\u001b[0m*\n",
      "  \u001b[96m\u001b[1mcall\u001b[22m\u001b[39m \u001b[36mvoid\u001b[39m \u001b[93m@llvm.memset.p0i8.i64\u001b[39m\u001b[33m(\u001b[39m\u001b[36mi8\u001b[39m\u001b[0m* \u001b[95malign\u001b[39m \u001b[33m16\u001b[39m \u001b[0m%2\u001b[0m, \u001b[36mi8\u001b[39m \u001b[33m0\u001b[39m\u001b[0m, \u001b[36mi64\u001b[39m \u001b[33m24\u001b[39m\u001b[0m, \u001b[36mi1\u001b[39m \u001b[95mtrue\u001b[39m\u001b[33m)\u001b[39m\n",
      "  \u001b[0m%3 \u001b[0m= \u001b[96m\u001b[1mcall\u001b[22m\u001b[39m \u001b[33m{\u001b[39m\u001b[33m}\u001b[39m\u001b[0m*** \u001b[95minttoptr\u001b[39m \u001b[33m(\u001b[39m\u001b[36mi64\u001b[39m \u001b[33m140715123397680\u001b[39m \u001b[95mto\u001b[39m \u001b[33m{\u001b[39m\u001b[33m}\u001b[39m\u001b[0m*** \u001b[33m(\u001b[39m\u001b[33m)\u001b[39m\u001b[0m*\u001b[33m)\u001b[39m\u001b[33m(\u001b[39m\u001b[33m)\u001b[39m \u001b[0m#7\n",
      "\u001b[90m;  @ C:\\workdir\\usr\\share\\julia\\stdlib\\v1.10\\LinearAlgebra\\src\\matmul.jl:113 within `*`\u001b[39m\n",
      "\u001b[90m; ┌ @ array.jl:190 within `size`\u001b[39m\n",
      "   \u001b[0m%4 \u001b[0m= \u001b[96m\u001b[1mbitcast\u001b[22m\u001b[39m \u001b[33m[\u001b[39m\u001b[33m3\u001b[39m \u001b[0mx \u001b[33m{\u001b[39m\u001b[33m}\u001b[39m\u001b[0m*\u001b[33m]\u001b[39m\u001b[0m* \u001b[0m%gcframe45 \u001b[95mto\u001b[39m \u001b[36mi64\u001b[39m\u001b[0m*\n",
      "   \u001b[96m\u001b[1mstore\u001b[22m\u001b[39m \u001b[36mi64\u001b[39m \u001b[33m4\u001b[39m\u001b[0m, \u001b[36mi64\u001b[39m\u001b[0m* \u001b[0m%4\u001b[0m, \u001b[95malign\u001b[39m \u001b[33m16\u001b[39m\n",
      "   \u001b[0m%5 \u001b[0m= \u001b[96m\u001b[1mgetelementptr\u001b[22m\u001b[39m \u001b[95minbounds\u001b[39m \u001b[33m[\u001b[39m\u001b[33m3\u001b[39m \u001b[0mx \u001b[33m{\u001b[39m\u001b[33m}\u001b[39m\u001b[0m*\u001b[33m]\u001b[39m\u001b[0m, \u001b[33m[\u001b[39m\u001b[33m3\u001b[39m \u001b[0mx \u001b[33m{\u001b[39m\u001b[33m}\u001b[39m\u001b[0m*\u001b[33m]\u001b[39m\u001b[0m* \u001b[0m%gcframe45\u001b[0m, \u001b[36mi64\u001b[39m \u001b[33m0\u001b[39m\u001b[0m, \u001b[36mi64\u001b[39m \u001b[33m1\u001b[39m\n",
      "   \u001b[0m%6 \u001b[0m= \u001b[96m\u001b[1mbitcast\u001b[22m\u001b[39m \u001b[33m{\u001b[39m\u001b[33m}\u001b[39m\u001b[0m** \u001b[0m%5 \u001b[95mto\u001b[39m \u001b[33m{\u001b[39m\u001b[33m}\u001b[39m\u001b[0m***\n",
      "   \u001b[0m%7 \u001b[0m= \u001b[96m\u001b[1mload\u001b[22m\u001b[39m \u001b[33m{\u001b[39m\u001b[33m}\u001b[39m\u001b[0m**\u001b[0m, \u001b[33m{\u001b[39m\u001b[33m}\u001b[39m\u001b[0m*** \u001b[0m%3\u001b[0m, \u001b[95malign\u001b[39m \u001b[33m8\u001b[39m\n",
      "   \u001b[96m\u001b[1mstore\u001b[22m\u001b[39m \u001b[33m{\u001b[39m\u001b[33m}\u001b[39m\u001b[0m** \u001b[0m%7\u001b[0m, \u001b[33m{\u001b[39m\u001b[33m}\u001b[39m\u001b[0m*** \u001b[0m%6\u001b[0m, \u001b[95malign\u001b[39m \u001b[33m8\u001b[39m\n",
      "   \u001b[0m%8 \u001b[0m= \u001b[96m\u001b[1mbitcast\u001b[22m\u001b[39m \u001b[33m{\u001b[39m\u001b[33m}\u001b[39m\u001b[0m*** \u001b[0m%3 \u001b[95mto\u001b[39m \u001b[33m{\u001b[39m\u001b[33m}\u001b[39m\u001b[0m***\n",
      "   \u001b[96m\u001b[1mstore\u001b[22m\u001b[39m \u001b[33m{\u001b[39m\u001b[33m}\u001b[39m\u001b[0m** \u001b[0m%gcframe45.sub\u001b[0m, \u001b[33m{\u001b[39m\u001b[33m}\u001b[39m\u001b[0m*** \u001b[0m%8\u001b[0m, \u001b[95malign\u001b[39m \u001b[33m8\u001b[39m\n",
      "   \u001b[0m%9 \u001b[0m= \u001b[96m\u001b[1mbitcast\u001b[22m\u001b[39m \u001b[33m{\u001b[39m\u001b[33m}\u001b[39m\u001b[0m* \u001b[0m%0 \u001b[95mto\u001b[39m \u001b[33m{\u001b[39m\u001b[33m}\u001b[39m\u001b[0m**\n",
      "   \u001b[0m%arraysize_ptr \u001b[0m= \u001b[96m\u001b[1mgetelementptr\u001b[22m\u001b[39m \u001b[95minbounds\u001b[39m \u001b[33m{\u001b[39m\u001b[33m}\u001b[39m\u001b[0m*\u001b[0m, \u001b[33m{\u001b[39m\u001b[33m}\u001b[39m\u001b[0m** \u001b[0m%9\u001b[0m, \u001b[36mi64\u001b[39m \u001b[33m3\u001b[39m\n",
      "   \u001b[0m%10 \u001b[0m= \u001b[96m\u001b[1mbitcast\u001b[22m\u001b[39m \u001b[33m{\u001b[39m\u001b[33m}\u001b[39m\u001b[0m** \u001b[0m%arraysize_ptr \u001b[95mto\u001b[39m \u001b[36mi64\u001b[39m\u001b[0m*\n",
      "   \u001b[0m%arraysize \u001b[0m= \u001b[96m\u001b[1mload\u001b[22m\u001b[39m \u001b[36mi64\u001b[39m\u001b[0m, \u001b[36mi64\u001b[39m\u001b[0m* \u001b[0m%10\u001b[0m, \u001b[95malign\u001b[39m \u001b[33m8\u001b[39m\n",
      "   \u001b[0m%11 \u001b[0m= \u001b[96m\u001b[1mbitcast\u001b[22m\u001b[39m \u001b[33m{\u001b[39m\u001b[33m}\u001b[39m\u001b[0m* \u001b[0m%1 \u001b[95mto\u001b[39m \u001b[33m{\u001b[39m\u001b[33m}\u001b[39m\u001b[0m**\n",
      "   \u001b[0m%arraysize_ptr1 \u001b[0m= \u001b[96m\u001b[1mgetelementptr\u001b[22m\u001b[39m \u001b[95minbounds\u001b[39m \u001b[33m{\u001b[39m\u001b[33m}\u001b[39m\u001b[0m*\u001b[0m, \u001b[33m{\u001b[39m\u001b[33m}\u001b[39m\u001b[0m** \u001b[0m%11\u001b[0m, \u001b[36mi64\u001b[39m \u001b[33m4\u001b[39m\n",
      "   \u001b[0m%12 \u001b[0m= \u001b[96m\u001b[1mbitcast\u001b[22m\u001b[39m \u001b[33m{\u001b[39m\u001b[33m}\u001b[39m\u001b[0m** \u001b[0m%arraysize_ptr1 \u001b[95mto\u001b[39m \u001b[36mi64\u001b[39m\u001b[0m*\n",
      "   \u001b[0m%arraysize2 \u001b[0m= \u001b[96m\u001b[1mload\u001b[22m\u001b[39m \u001b[36mi64\u001b[39m\u001b[0m, \u001b[36mi64\u001b[39m\u001b[0m* \u001b[0m%12\u001b[0m, \u001b[95malign\u001b[39m \u001b[33m8\u001b[39m\n",
      "\u001b[90m; └\u001b[39m\n",
      "\u001b[90m; ┌ @ array.jl:420 within `similar`\u001b[39m\n",
      "\u001b[90m; │┌ @ boot.jl:487 within `Array` @ boot.jl:479\u001b[39m\n",
      "    \u001b[0m%13 \u001b[0m= \u001b[96m\u001b[1mcall\u001b[22m\u001b[39m \u001b[95mnonnull\u001b[39m \u001b[33m{\u001b[39m\u001b[33m}\u001b[39m\u001b[0m* \u001b[95minttoptr\u001b[39m \u001b[33m(\u001b[39m\u001b[36mi64\u001b[39m \u001b[33m140715123210944\u001b[39m \u001b[95mto\u001b[39m \u001b[33m{\u001b[39m\u001b[33m}\u001b[39m\u001b[0m* \u001b[33m(\u001b[39m\u001b[33m{\u001b[39m\u001b[33m}\u001b[39m\u001b[0m*\u001b[0m, \u001b[36mi64\u001b[39m\u001b[0m, \u001b[36mi64\u001b[39m\u001b[33m)\u001b[39m\u001b[0m*\u001b[33m)\u001b[39m\u001b[33m(\u001b[39m\u001b[33m{\u001b[39m\u001b[33m}\u001b[39m\u001b[0m* \u001b[95minttoptr\u001b[39m \u001b[33m(\u001b[39m\u001b[36mi64\u001b[39m \u001b[33m1966651783952\u001b[39m \u001b[95mto\u001b[39m \u001b[33m{\u001b[39m\u001b[33m}\u001b[39m\u001b[0m*\u001b[33m)\u001b[39m\u001b[0m, \u001b[36mi64\u001b[39m \u001b[0m%arraysize\u001b[0m, \u001b[36mi64\u001b[39m \u001b[0m%arraysize2\u001b[33m)\u001b[39m\n",
      "    \u001b[0m%14 \u001b[0m= \u001b[96m\u001b[1mgetelementptr\u001b[22m\u001b[39m \u001b[95minbounds\u001b[39m \u001b[33m[\u001b[39m\u001b[33m3\u001b[39m \u001b[0mx \u001b[33m{\u001b[39m\u001b[33m}\u001b[39m\u001b[0m*\u001b[33m]\u001b[39m\u001b[0m, \u001b[33m[\u001b[39m\u001b[33m3\u001b[39m \u001b[0mx \u001b[33m{\u001b[39m\u001b[33m}\u001b[39m\u001b[0m*\u001b[33m]\u001b[39m\u001b[0m* \u001b[0m%gcframe45\u001b[0m, \u001b[36mi64\u001b[39m \u001b[33m0\u001b[39m\u001b[0m, \u001b[36mi64\u001b[39m \u001b[33m2\u001b[39m\n",
      "    \u001b[96m\u001b[1mstore\u001b[22m\u001b[39m \u001b[33m{\u001b[39m\u001b[33m}\u001b[39m\u001b[0m* \u001b[0m%13\u001b[0m, \u001b[33m{\u001b[39m\u001b[33m}\u001b[39m\u001b[0m** \u001b[0m%14\u001b[0m, \u001b[95malign\u001b[39m \u001b[33m16\u001b[39m\n",
      "\u001b[90m; └└\u001b[39m\n",
      "\u001b[90m; ┌ @ C:\\workdir\\usr\\share\\julia\\stdlib\\v1.10\\LinearAlgebra\\src\\matmul.jl:237 within `mul!` @ C:\\workdir\\usr\\share\\julia\\stdlib\\v1.10\\LinearAlgebra\\src\\matmul.jl:263\u001b[39m\n",
      "\u001b[90m; │┌ @ C:\\workdir\\usr\\share\\julia\\stdlib\\v1.10\\LinearAlgebra\\src\\matmul.jl:352 within `generic_matmatmul!`\u001b[39m\n",
      "    \u001b[0m%15 \u001b[0m= \u001b[96m\u001b[1mcall\u001b[22m\u001b[39m \u001b[95mnonnull\u001b[39m \u001b[33m{\u001b[39m\u001b[33m}\u001b[39m\u001b[0m* \u001b[93m@\"j_gemm_wrapper!_4141\"\u001b[39m\u001b[33m(\u001b[39m\u001b[33m{\u001b[39m\u001b[33m}\u001b[39m\u001b[0m* \u001b[95mnonnull\u001b[39m \u001b[0m%13\u001b[0m, \u001b[36mi32\u001b[39m \u001b[95mzeroext\u001b[39m \u001b[33m1308622848\u001b[39m\u001b[0m, \u001b[36mi32\u001b[39m \u001b[95mzeroext\u001b[39m \u001b[33m1308622848\u001b[39m\u001b[0m, \u001b[33m{\u001b[39m\u001b[33m}\u001b[39m\u001b[0m* \u001b[95mnonnull\u001b[39m \u001b[0m%0\u001b[0m, \u001b[33m{\u001b[39m\u001b[33m}\u001b[39m\u001b[0m* \u001b[95mnonnull\u001b[39m \u001b[0m%1\u001b[0m, \u001b[33m[\u001b[39m\u001b[33m2\u001b[39m \u001b[0mx \u001b[36mi8\u001b[39m\u001b[33m]\u001b[39m\u001b[0m* \u001b[95mnocapture\u001b[39m \u001b[95mreadonly\u001b[39m \u001b[93m@_j_const2\u001b[39m\u001b[33m)\u001b[39m\n",
      "    \u001b[0m%16 \u001b[0m= \u001b[96m\u001b[1mload\u001b[22m\u001b[39m \u001b[33m{\u001b[39m\u001b[33m}\u001b[39m\u001b[0m*\u001b[0m, \u001b[33m{\u001b[39m\u001b[33m}\u001b[39m\u001b[0m** \u001b[0m%5\u001b[0m, \u001b[95malign\u001b[39m \u001b[33m8\u001b[39m\n",
      "    \u001b[0m%17 \u001b[0m= \u001b[96m\u001b[1mbitcast\u001b[22m\u001b[39m \u001b[33m{\u001b[39m\u001b[33m}\u001b[39m\u001b[0m*** \u001b[0m%3 \u001b[95mto\u001b[39m \u001b[33m{\u001b[39m\u001b[33m}\u001b[39m\u001b[0m**\n",
      "    \u001b[96m\u001b[1mstore\u001b[22m\u001b[39m \u001b[33m{\u001b[39m\u001b[33m}\u001b[39m\u001b[0m* \u001b[0m%16\u001b[0m, \u001b[33m{\u001b[39m\u001b[33m}\u001b[39m\u001b[0m** \u001b[0m%17\u001b[0m, \u001b[95malign\u001b[39m \u001b[33m8\u001b[39m\n",
      "\u001b[90m; │└\u001b[39m\n",
      "\u001b[90m; │ @ C:\\workdir\\usr\\share\\julia\\stdlib\\v1.10\\LinearAlgebra\\src\\matmul.jl:237 within `mul!`\u001b[39m\n",
      "   \u001b[96m\u001b[1mret\u001b[22m\u001b[39m \u001b[33m{\u001b[39m\u001b[33m}\u001b[39m\u001b[0m* \u001b[0m%15\n",
      "\u001b[90m; └\u001b[39m\n",
      "\u001b[33m}\u001b[39m\n"
     ]
    }
   ],
   "source": [
    "@code_llvm A*B"
   ]
  },
  {
   "cell_type": "code",
   "execution_count": 25,
   "metadata": {},
   "outputs": [
    {
     "ename": "LoadError",
     "evalue": "LoadError: MethodError: no method matching var\"@simd\"(::LineNumberNode, ::Module)\n\nClosest candidates are:\n  var\"@simd\"(::LineNumberNode, ::Module, !Matched::Any, !Matched::Any)\n   @ Base simdloop.jl:131\n  var\"@simd\"(::LineNumberNode, ::Module, !Matched::Any)\n   @ Base simdloop.jl:127\n\nin expression starting at c:\\Users\\babazadehmorteza\\Desktop\\MthClub\\jl_notebook_cell_df34fa98e69747e1a8f8a730347b8e2f_X16sZmlsZQ==.jl:1",
     "output_type": "error",
     "traceback": [
      "LoadError: MethodError: no method matching var\"@simd\"(::LineNumberNode, ::Module)\n",
      "\n",
      "Closest candidates are:\n",
      "  var\"@simd\"(::LineNumberNode, ::Module, !Matched::Any, !Matched::Any)\n",
      "   @ Base simdloop.jl:131\n",
      "  var\"@simd\"(::LineNumberNode, ::Module, !Matched::Any)\n",
      "   @ Base simdloop.jl:127\n",
      "\n",
      "in expression starting at c:\\Users\\babazadehmorteza\\Desktop\\MthClub\\jl_notebook_cell_df34fa98e69747e1a8f8a730347b8e2f_X16sZmlsZQ==.jl:1\n",
      "\n",
      "Stacktrace:\n",
      "  [1] eval\n",
      "    @ .\\boot.jl:385 [inlined]\n",
      "  [2] include_string(mapexpr::typeof(REPL.softscope), mod::Module, code::String, filename::String)\n",
      "    @ Base .\\loading.jl:2076\n",
      "  [3] #invokelatest#2\n",
      "    @ .\\essentials.jl:892 [inlined]\n",
      "  [4] invokelatest\n",
      "    @ .\\essentials.jl:889 [inlined]\n",
      "  [5] (::VSCodeServer.var\"#217#218\"{VSCodeServer.NotebookRunCellArguments, String})()\n",
      "    @ VSCodeServer c:\\Users\\babazadehmorteza\\.vscode\\extensions\\julialang.language-julia-1.109.2\\scripts\\packages\\VSCodeServer\\src\\serve_notebook.jl:24\n",
      "  [6] withpath(f::VSCodeServer.var\"#217#218\"{VSCodeServer.NotebookRunCellArguments, String}, path::String)\n",
      "    @ VSCodeServer c:\\Users\\babazadehmorteza\\.vscode\\extensions\\julialang.language-julia-1.109.2\\scripts\\packages\\VSCodeServer\\src\\repl.jl:276\n",
      "  [7] notebook_runcell_request(conn::VSCodeServer.JSONRPC.JSONRPCEndpoint{Base.PipeEndpoint, Base.PipeEndpoint}, params::VSCodeServer.NotebookRunCellArguments)\n",
      "    @ VSCodeServer c:\\Users\\babazadehmorteza\\.vscode\\extensions\\julialang.language-julia-1.109.2\\scripts\\packages\\VSCodeServer\\src\\serve_notebook.jl:13\n",
      "  [8] dispatch_msg(x::VSCodeServer.JSONRPC.JSONRPCEndpoint{Base.PipeEndpoint, Base.PipeEndpoint}, dispatcher::VSCodeServer.JSONRPC.MsgDispatcher, msg::Dict{String, Any})\n",
      "    @ VSCodeServer.JSONRPC c:\\Users\\babazadehmorteza\\.vscode\\extensions\\julialang.language-julia-1.109.2\\scripts\\packages\\JSONRPC\\src\\typed.jl:67\n",
      "  [9] serve_notebook(pipename::String, debugger_pipename::String, outputchannel_logger::Base.CoreLogging.SimpleLogger; error_handler::var\"#5#10\"{String})\n",
      "    @ VSCodeServer c:\\Users\\babazadehmorteza\\.vscode\\extensions\\julialang.language-julia-1.109.2\\scripts\\packages\\VSCodeServer\\src\\serve_notebook.jl:147\n",
      " [10] top-level scope\n",
      "    @ c:\\Users\\babazadehmorteza\\.vscode\\extensions\\julialang.language-julia-1.109.2\\scripts\\notebook\\notebook.jl:35"
     ]
    }
   ],
   "source": [
    "@simd"
   ]
  },
  {
   "cell_type": "code",
   "execution_count": 29,
   "metadata": {},
   "outputs": [
    {
     "name": "stderr",
     "output_type": "stream",
     "text": [
      "\u001b[32m\u001b[1m   Resolving\u001b[22m\u001b[39m package versions...\n",
      "\u001b[32m\u001b[1m    Updating\u001b[22m\u001b[39m `C:\\Users\\babazadehmorteza\\Desktop\\MthClub\\Project.toml`\n",
      "  \u001b[90m[fdea26ae] \u001b[39m\u001b[92m+ SIMD v3.5.0\u001b[39m\n",
      "\u001b[32m\u001b[1m    Updating\u001b[22m\u001b[39m `C:\\Users\\babazadehmorteza\\Desktop\\MthClub\\Manifest.toml`\n",
      "  \u001b[90m[fdea26ae] \u001b[39m\u001b[92m+ SIMD v3.5.0\u001b[39m\n"
     ]
    }
   ],
   "source": [
    "begin \n",
    "    import Pkg\n",
    "    Pkg.add(\"SIMD\")\n",
    "    using SIMD\n",
    "end"
   ]
  },
  {
   "cell_type": "code",
   "execution_count": 63,
   "metadata": {},
   "outputs": [
    {
     "name": "stdout",
     "output_type": "stream",
     "text": [
      "  1.151 ms (58467 allocations: 913.55 KiB)\n"
     ]
    }
   ],
   "source": [
    "begin\n",
    "    b = ones(10_000)\n",
    "    a = 2 .* ones(10_000)\n",
    "    @btime for i in 1:10_000\n",
    "        a[i] *= b[i]\n",
    "    end\n",
    "end"
   ]
  },
  {
   "cell_type": "code",
   "execution_count": 62,
   "metadata": {},
   "outputs": [
    {
     "name": "stdout",
     "output_type": "stream",
     "text": [
      "  1.133 ms (58467 allocations: 913.55 KiB)\n"
     ]
    }
   ],
   "source": [
    "begin\n",
    "    b = ones(10_000)\n",
    "    a = 2 .* ones(10_000)\n",
    "    @btime for i in 1:10_000\n",
    "        a[i] += b[i]\n",
    "    end\n",
    "end"
   ]
  },
  {
   "cell_type": "code",
   "execution_count": null,
   "metadata": {},
   "outputs": [],
   "source": []
  }
 ],
 "metadata": {
  "kernelspec": {
   "display_name": "Julia 1.10.3",
   "language": "julia",
   "name": "julia-1.10"
  },
  "language_info": {
   "file_extension": ".jl",
   "mimetype": "application/julia",
   "name": "julia",
   "version": "1.10.3"
  }
 },
 "nbformat": 4,
 "nbformat_minor": 2
}
