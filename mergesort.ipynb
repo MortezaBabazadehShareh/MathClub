{
 "cells": [
  {
   "cell_type": "code",
   "execution_count": 12,
   "metadata": {},
   "outputs": [
    {
     "data": {
      "text/plain": [
       "merge_sort! (generic function with 2 methods)"
      ]
     },
     "metadata": {},
     "output_type": "display_data"
    }
   ],
   "source": [
    "function merge!(arr, temp, left_start, right_start, right_end)\n",
    "    left_end = right_start - 1\n",
    "    temp_index = left_start\n",
    "    initial_left_start = left_start\n",
    "    \n",
    "    while left_start <= left_end && right_start <= right_end\n",
    "        if arr[left_start] <= arr[right_start]\n",
    "            temp[temp_index] = arr[left_start]\n",
    "            left_start += 1\n",
    "        else\n",
    "            temp[temp_index] = arr[right_start]\n",
    "            right_start += 1\n",
    "        end\n",
    "        temp_index += 1\n",
    "    end\n",
    "    \n",
    "    while left_start <= left_end\n",
    "        temp[temp_index] = arr[left_start]\n",
    "        left_start += 1\n",
    "        temp_index += 1\n",
    "    end\n",
    "    \n",
    "    while right_start <= right_end\n",
    "        temp[temp_index] = arr[right_start]\n",
    "        right_start += 1\n",
    "        temp_index += 1\n",
    "    end\n",
    "    \n",
    "    for i in initial_left_start:right_end\n",
    "        arr[i] = temp[i]\n",
    "    end\n",
    "end\n",
    "\n",
    "function merge_sort!(arr, temp, left_start, right_end)\n",
    "    if left_start >= right_end\n",
    "        return\n",
    "    end\n",
    "    \n",
    "    middle = (left_start + right_end) ÷ 2\n",
    "    merge_sort!(arr, temp, left_start, middle)\n",
    "    merge_sort!(arr, temp, middle + 1, right_end)\n",
    "    merge!(arr, temp, left_start, middle + 1, right_end)\n",
    "end\n",
    "\n",
    "function merge_sort!(arr)\n",
    "    temp = similar(arr)\n",
    "    merge_sort!(arr, temp, 1, length(arr))\n",
    "end"
   ]
  },
  {
   "cell_type": "code",
   "execution_count": 13,
   "metadata": {},
   "outputs": [
    {
     "name": "stdout",
     "output_type": "stream",
     "text": [
      "  0.059121 seconds (7.88 k allocations: 539.625 KiB, 99.88% compilation time)\n",
      "[3, 5, 6, 6, 8, 9, 10, 11]"
     ]
    }
   ],
   "source": [
    "a=[10, 3, 5, 6, 11, 6, 9, 8]\n",
    "@time merge_sort!(a)\n",
    "print(a)"
   ]
  }
 ],
 "metadata": {
  "kernelspec": {
   "display_name": "Julia 1.10.3",
   "language": "julia",
   "name": "julia-1.10"
  },
  "language_info": {
   "file_extension": ".jl",
   "mimetype": "application/julia",
   "name": "julia",
   "version": "1.10.3"
  }
 },
 "nbformat": 4,
 "nbformat_minor": 2
}
