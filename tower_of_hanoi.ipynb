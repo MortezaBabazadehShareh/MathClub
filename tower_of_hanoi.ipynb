{
 "cells": [
  {
   "cell_type": "code",
   "execution_count": 1,
   "metadata": {},
   "outputs": [
    {
     "data": {
      "text/plain": [
       "hanoi (generic function with 1 method)"
      ]
     },
     "metadata": {},
     "output_type": "display_data"
    }
   ],
   "source": [
    "### The tower of hanoi recursive function \n",
    "function hanoi(source::Int, auxiliary::Int, destination::Int, n::Int)\n",
    "    if n==1\n",
    "        print(\"$source ---> $destination\\n\")\n",
    "    else\n",
    "        hanoi(source, destination, auxiliary, n-1)\n",
    "        print(\"$source ---> $destination\\n\")\n",
    "        hanoi(auxiliary, source, destination, n-1)\n",
    "    end\n",
    "end"
   ]
  },
  {
   "cell_type": "code",
   "execution_count": null,
   "metadata": {},
   "outputs": [],
   "source": [
    "@time hanoi(1, 2, 3, 5)"
   ]
  }
 ],
 "metadata": {
  "kernelspec": {
   "display_name": "Julia 1.10.3",
   "language": "julia",
   "name": "julia-1.10"
  },
  "language_info": {
   "file_extension": ".jl",
   "mimetype": "application/julia",
   "name": "julia",
   "version": "1.10.3"
  }
 },
 "nbformat": 4,
 "nbformat_minor": 2
}
