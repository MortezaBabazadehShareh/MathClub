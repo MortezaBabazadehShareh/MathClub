{
 "cells": [
  {
   "cell_type": "code",
   "execution_count": 1,
   "metadata": {},
   "outputs": [
    {
     "data": {
      "text/plain": [
       "hanoi (generic function with 1 method)"
      ]
     },
     "metadata": {},
     "output_type": "display_data"
    }
   ],
   "source": [
    "### The tower of hanoi recursive function \n",
    "function hanoi(a::Int, b::Int, c::Int, n::Int)\n",
    "    if n==1\n",
    "        print(\"$a ---> $c\\n\")\n",
    "    else\n",
    "        hanoi(a, c, b, n-1)\n",
    "        print(\"$a ---> $c\\n\")\n",
    "        hanoi(b, a, c, n-1)\n",
    "    end\n",
    "end"
   ]
  },
  {
   "cell_type": "code",
   "execution_count": 2,
   "metadata": {},
   "outputs": [
    {
     "name": "stdout",
     "output_type": "stream",
     "text": [
      "1 ---> 3\n",
      "1 ---> 2\n",
      "3 ---> 2\n",
      "1 ---> 3\n",
      "2 ---> 1\n",
      "2 ---> 3\n",
      "1 ---> 3\n",
      "1 ---> 2\n",
      "3 ---> 2\n",
      "3 ---> 1\n",
      "2 ---> 1\n",
      "3 ---> 2\n",
      "1 ---> 3\n",
      "1 ---> 2\n",
      "3 ---> 2\n",
      "1 ---> 3\n",
      "2 ---> 1\n",
      "2 ---> 3\n",
      "1 ---> 3\n",
      "2 ---> 1\n",
      "3 ---> 2\n",
      "3 ---> 1\n",
      "2 ---> 1\n",
      "2 ---> 3\n",
      "1 ---> 3\n",
      "1 ---> 2\n",
      "3 ---> 2\n",
      "1 ---> 3\n",
      "2 ---> 1\n",
      "2 ---> 3\n",
      "1 ---> 3\n",
      "  0.015451 seconds (3.20 k allocations: 245.938 KiB, 45.08% gc time, 80.07% compilation time)\n"
     ]
    }
   ],
   "source": [
    "@time hanoi(1, 2, 3, 5)"
   ]
  }
 ],
 "metadata": {
  "kernelspec": {
   "display_name": "Julia 1.10.3",
   "language": "julia",
   "name": "julia-1.10"
  },
  "language_info": {
   "file_extension": ".jl",
   "mimetype": "application/julia",
   "name": "julia",
   "version": "1.10.3"
  }
 },
 "nbformat": 4,
 "nbformat_minor": 2
}
