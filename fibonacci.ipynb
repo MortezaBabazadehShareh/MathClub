{
 "cells": [
  {
   "cell_type": "code",
   "execution_count": 1,
   "metadata": {},
   "outputs": [
    {
     "data": {
      "text/plain": [
       "fib_dq (generic function with 1 method)"
      ]
     },
     "metadata": {},
     "output_type": "display_data"
    }
   ],
   "source": [
    "#### recursive function for fibonacci sequence\n",
    "function fib_dq(n::Int)::Int\n",
    "    if n==0 || n==1\n",
    "        return n\n",
    "    end\n",
    "    return fib_dq(n-1) + fib_dq(n-2)\n",
    "end"
   ]
  },
  {
   "cell_type": "code",
   "execution_count": 2,
   "metadata": {},
   "outputs": [
    {
     "name": "stdout",
     "output_type": "stream",
     "text": [
      "  2.759456 seconds\n"
     ]
    },
    {
     "data": {
      "text/plain": [
       "433494437"
      ]
     },
     "metadata": {},
     "output_type": "display_data"
    }
   ],
   "source": [
    "@time fib_dq(43)"
   ]
  },
  {
   "cell_type": "code",
   "execution_count": 35,
   "metadata": {},
   "outputs": [
    {
     "data": {
      "text/plain": [
       "fib_dp1 (generic function with 1 method)"
      ]
     },
     "metadata": {},
     "output_type": "display_data"
    }
   ],
   "source": [
    "### fibonacci function using dynamic programming approach\n",
    "function fib_dp1(n::Int)::Int\n",
    "    if n==0 || n==1\n",
    "        return n\n",
    "    end\n",
    "    fibonacci=zeros(n+1)\n",
    "    fibonacci[2]=1\n",
    "    for i in 3:n+1\n",
    "        fibonacci[i]=fibonacci[i-1]+fibonacci[i-2]\n",
    "    end\n",
    "    return fibonacci[n+1]\n",
    "end"
   ]
  },
  {
   "cell_type": "code",
   "execution_count": 14,
   "metadata": {},
   "outputs": [
    {
     "data": {
      "text/plain": [
       "fib_dp2 (generic function with 1 method)"
      ]
     },
     "metadata": {},
     "output_type": "display_data"
    }
   ],
   "source": [
    "\n",
    "### fibonacci function using dynamic programming approach without array\n",
    "function fib_dp2(n::Int)::Int\n",
    "    temp1 = 0; temp2 = 1; new_item=0\n",
    "    if n==0 || n==1\n",
    "        return n\n",
    "    end\n",
    "    for i in 2:n\n",
    "        new_item = temp1 + temp2\n",
    "        temp1 = temp2\n",
    "        temp2 = new_item\n",
    "    end\n",
    "    return new_item\n",
    "end"
   ]
  },
  {
   "cell_type": "code",
   "execution_count": 32,
   "metadata": {},
   "outputs": [
    {
     "name": "stdout",
     "output_type": "stream",
     "text": [
      "  108.021 ns (1 allocation: 496 bytes)\n"
     ]
    },
    {
     "data": {
      "text/plain": [
       "12586269025"
      ]
     },
     "metadata": {},
     "output_type": "display_data"
    }
   ],
   "source": [
    "@btime fib_dp1(50)"
   ]
  },
  {
   "cell_type": "code",
   "execution_count": 34,
   "metadata": {},
   "outputs": [
    {
     "name": "stdout",
     "output_type": "stream",
     "text": [
      "  2.300 ns (0 allocations: 0 bytes)\n"
     ]
    },
    {
     "data": {
      "text/plain": [
       "12586269025"
      ]
     },
     "metadata": {},
     "output_type": "display_data"
    }
   ],
   "source": [
    "@btime fib_dp2(50)"
   ]
  }
 ],
 "metadata": {
  "kernelspec": {
   "display_name": "Julia 1.10.3",
   "language": "julia",
   "name": "julia-1.10"
  },
  "language_info": {
   "file_extension": ".jl",
   "mimetype": "application/julia",
   "name": "julia",
   "version": "1.10.3"
  }
 },
 "nbformat": 4,
 "nbformat_minor": 2
}
