{
 "cells": [
  {
   "cell_type": "code",
   "execution_count": 1,
   "metadata": {},
   "outputs": [
    {
     "data": {
      "text/plain": [
       "fib_dq (generic function with 1 method)"
      ]
     },
     "metadata": {},
     "output_type": "display_data"
    }
   ],
   "source": [
    "#### recursive function for fibonacci sequence\n",
    "function fib_dq(n::Int)::Int\n",
    "    if n==0 || n==1\n",
    "        return n\n",
    "    end\n",
    "    return fib_dq(n-1) + fib_dq(n-2)\n",
    "end"
   ]
  },
  {
   "cell_type": "code",
   "execution_count": 2,
   "metadata": {},
   "outputs": [
    {
     "name": "stdout",
     "output_type": "stream",
     "text": [
      "  2.759456 seconds\n"
     ]
    },
    {
     "data": {
      "text/plain": [
       "433494437"
      ]
     },
     "metadata": {},
     "output_type": "display_data"
    }
   ],
   "source": [
    "@time fib_dq(43)"
   ]
  },
  {
   "cell_type": "code",
   "execution_count": 3,
   "metadata": {},
   "outputs": [
    {
     "data": {
      "text/plain": [
       "fib_dp (generic function with 1 method)"
      ]
     },
     "metadata": {},
     "output_type": "display_data"
    }
   ],
   "source": [
    "\n",
    "### fibonacci function using dynamic programming approach\n",
    "function fib_dp(n::Int)::Int\n",
    "    temp1 = 0; temp2 = 1; new_item=0\n",
    "    if n==0 || n==1\n",
    "        return n\n",
    "    end\n",
    "    for i in 2:n\n",
    "        new_item = temp1 + temp2\n",
    "        temp1 = temp2\n",
    "        temp2 = new_item\n",
    "    end\n",
    "    return new_item\n",
    "end"
   ]
  },
  {
   "cell_type": "code",
   "execution_count": 4,
   "metadata": {},
   "outputs": [
    {
     "name": "stdout",
     "output_type": "stream",
     "text": [
      "  0.000007 seconds\n"
     ]
    },
    {
     "data": {
      "text/plain": [
       "12586269025"
      ]
     },
     "metadata": {},
     "output_type": "display_data"
    }
   ],
   "source": [
    "@time fib_dp(50)"
   ]
  }
 ],
 "metadata": {
  "kernelspec": {
   "display_name": "Julia 1.10.3",
   "language": "julia",
   "name": "julia-1.10"
  },
  "language_info": {
   "file_extension": ".jl",
   "mimetype": "application/julia",
   "name": "julia",
   "version": "1.10.3"
  }
 },
 "nbformat": 4,
 "nbformat_minor": 2
}
