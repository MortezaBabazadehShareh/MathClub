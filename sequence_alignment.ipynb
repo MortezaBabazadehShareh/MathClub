{
 "cells": [
  {
   "cell_type": "code",
   "execution_count": 8,
   "metadata": {},
   "outputs": [
    {
     "data": {
      "text/plain": [
       "sequence_alignment (generic function with 1 method)"
      ]
     },
     "metadata": {},
     "output_type": "display_data"
    }
   ],
   "source": [
    "# Solving of the sequence alingment problem using divide and conquer \n",
    "## This function only calculates the best score, not the alignments \n",
    "### Define the costs for match, mismatch, insertion, and deletion\n",
    "const MATCH_SCORE = 1\n",
    "const MISMATCH_PENALTY = -1\n",
    "const GAP_PENALTY = -1\n",
    "\n",
    "### divide and conquer sequence alignment function\n",
    "function sequence_alignment(seq1::String, seq2::String, m::Int, n::Int)\n",
    "    # Base cases\n",
    "    if m == 0\n",
    "        return n * GAP_PENALTY\n",
    "    elseif n == 0\n",
    "        return m * GAP_PENALTY\n",
    "    end\n",
    "\n",
    "    # Recurrence relation\n",
    "    if seq1[m] == seq2[n]\n",
    "        match_mismatch = sequence_alignment(seq1, seq2, m-1, n-1) + MATCH_SCORE\n",
    "    else\n",
    "        match_mismatch = sequence_alignment(seq1, seq2, m-1, n-1) + MISMATCH_PENALTY\n",
    "    end\n",
    "\n",
    "    # Calculate the minimum score considering all operations\n",
    "    insertion = sequence_alignment(seq1, seq2, m, n-1) + GAP_PENALTY\n",
    "    deletion = sequence_alignment(seq1, seq2, m-1, n) + GAP_PENALTY\n",
    "\n",
    "    return max(match_mismatch, insertion, deletion)\n",
    "end"
   ]
  },
  {
   "cell_type": "code",
   "execution_count": 1,
   "metadata": {},
   "outputs": [
    {
     "data": {
      "text/plain": [
       "needleman_wunsch (generic function with 1 method)"
      ]
     },
     "metadata": {},
     "output_type": "display_data"
    }
   ],
   "source": [
    "# Solving sequence alignment using dynamic programming approach\n",
    "### implementation of needleman_wunsch algorithm\n",
    "function needleman_wunsch(seq1::String, seq2::String; match_score=1, mismatch_penalty=-1, gap_penalty=-1)\n",
    "    len1 = length(seq1)\n",
    "    len2 = length(seq2)\n",
    "\n",
    "    # Initialize scoring matrix\n",
    "    score_matrix = zeros(Int, len1+1, len2+1)\n",
    "\n",
    "    # Initialize gap penalties in scoring matrix\n",
    "    for i in 1:len1+1\n",
    "        score_matrix[i, 1] = gap_penalty * (i - 1)\n",
    "    end\n",
    "    for j in 1:len2+1\n",
    "        score_matrix[1, j] = gap_penalty * (j - 1)\n",
    "    end\n",
    "\n",
    "    # Fill the scoring matrix\n",
    "    for i in 2:len1+1\n",
    "        for j in 2:len2+1\n",
    "            match = score_matrix[i-1, j-1] + (seq1[i-1] == seq2[j-1] ? match_score : mismatch_penalty)\n",
    "            delete = score_matrix[i-1, j] + gap_penalty\n",
    "            insert = score_matrix[i, j-1] + gap_penalty\n",
    "            score_matrix[i, j] = max(match, delete, insert)\n",
    "        end\n",
    "    end\n",
    "\n",
    "    # Traceback to find the optimal alignment\n",
    "    align1 = \"\"\n",
    "    align2 = \"\"\n",
    "    i, j = len1+1, len2+1\n",
    "\n",
    "    while i > 1 || j > 1\n",
    "        current_score = score_matrix[i, j]\n",
    "        if i > 1 && j > 1 && current_score == score_matrix[i-1, j-1] + (seq1[i-1] == seq2[j-1] ? match_score : mismatch_penalty)\n",
    "            align1 = string(seq1[i-1], align1)\n",
    "            align2 = string(seq2[j-1], align2)\n",
    "            i -= 1\n",
    "            j -= 1\n",
    "        elseif i > 1 && current_score == score_matrix[i-1, j] + gap_penalty\n",
    "            align1 = string(seq1[i-1], align1)\n",
    "            align2 = string(\"-\", align2)\n",
    "            i -= 1\n",
    "        else\n",
    "            align1 = string(\"-\", align1)\n",
    "            align2 = string(seq2[j-1], align2)\n",
    "            j -= 1\n",
    "        end\n",
    "    end\n",
    "\n",
    "    return (align1, align2, score_matrix[len1+1, len2+1])\n",
    "end"
   ]
  },
  {
   "cell_type": "code",
   "execution_count": 2,
   "metadata": {},
   "outputs": [
    {
     "data": {
      "text/plain": [
       "print_alignment (generic function with 1 method)"
      ]
     },
     "metadata": {},
     "output_type": "display_data"
    }
   ],
   "source": [
    "### Special print function to colorcode the match, mismatch and gaps\n",
    "using Crayons\n",
    "function print_alignment(align1::String, align2::String)\n",
    "    red = Crayon(foreground=:light_red)\n",
    "    magenta = Crayon(foreground=:magenta)\n",
    "    cyan=Crayon(foreground=:light_cyan)\n",
    "    for i in 1:length(align1)\n",
    "        if align1[i] == align2[i]\n",
    "            print(cyan(string(align1[i])), \"  \")\n",
    "        elseif align1[i] == '-' || align2[i] == '-'\n",
    "            print(red(string(align1[i])), \"  \")\n",
    "        else\n",
    "            print(magenta(string(align1[i])), \"  \")\n",
    "        end\n",
    "        #sleep(0.2)\n",
    "    end\n",
    "    println()\n",
    "    for i in 1:length(align2)\n",
    "        if align1[i] == align2[i] \n",
    "            print(cyan(string(align1[i])), \"  \")\n",
    "        elseif align1[i] == '-' || align2[i] == '-'\n",
    "            print(red(string(align2[i])), \"  \")\n",
    "        else\n",
    "            print(magenta(string(align2[i])), \"  \")\n",
    "        end\n",
    "        sleep(0.1)\n",
    "    end\n",
    "    println()\n",
    "end\n"
   ]
  },
  {
   "cell_type": "code",
   "execution_count": 12,
   "metadata": {},
   "outputs": [
    {
     "name": "stdout",
     "output_type": "stream",
     "text": [
      "  6.962225 seconds\n",
      "Alignment Score: 2\n"
     ]
    }
   ],
   "source": [
    "# an example of divide and conquer function\n",
    "seq1 = \"GATAATTAATAA\"\n",
    "seq2 = \"GCATGUATGCTTAA\"\n",
    "m = length(seq1)\n",
    "n = length(seq2)\n",
    "\n",
    "@time alignment_score = sequence_alignment(seq1, seq2, m, n)\n",
    "println(\"Alignment Score: $alignment_score\")"
   ]
  },
  {
   "cell_type": "code",
   "execution_count": 10,
   "metadata": {},
   "outputs": [
    {
     "name": "stdout",
     "output_type": "stream",
     "text": [
      "  0.000040 seconds (102 allocations: 19.469 KiB)\n",
      "\u001b[96mG\u001b[39m  \u001b[91m-\u001b[39m  \u001b[96mA\u001b[39m  \u001b[91mT\u001b[39m  \u001b[96mT\u001b[39m  \u001b[35mA\u001b[39m  \u001b[96mC\u001b[39m  \u001b[91mA\u001b[39m  \u001b[91mA\u001b[39m  \u001b[35mA\u001b[39m  \u001b[96mA\u001b[39m  \u001b[91mG\u001b[39m  \u001b[35mG\u001b[39m  \u001b[96mG\u001b[39m  \u001b[96mG\u001b[39m  \u001b[96mA\u001b[39m  \u001b[91mT\u001b[39m  \u001b[35mT\u001b[39m  \u001b[96mA\u001b[39m  \u001b[96mC\u001b[39m  \u001b[96mG\u001b[39m  \u001b[91mA\u001b[39m  \u001b[91mT\u001b[39m  \u001b[35mT\u001b[39m  \u001b[35mT\u001b[39m  \u001b[96mA\u001b[39m  \u001b[35mC\u001b[39m  \u001b[96mG\u001b[39m  \u001b[35mA\u001b[39m  \u001b[96mT\u001b[39m  \u001b[96mT\u001b[39m  \u001b[96mA\u001b[39m  \u001b[35mG\u001b[39m  \u001b[96mG\u001b[39m  \u001b[35mG\u001b[39m  \u001b[96mC\u001b[39m  \u001b[96mC\u001b[39m  \u001b[35mT\u001b[39m  \u001b[96mA\u001b[39m  \u001b[96mA\u001b[39m  \u001b[96mA\u001b[39m  \u001b[91m-\u001b[39m  \u001b[91m-\u001b[39m  \u001b[96mT\u001b[39m  \u001b[91m-\u001b[39m  \u001b[91m-\u001b[39m  \u001b[91m-\u001b[39m  \u001b[91m-\u001b[39m  \u001b[91m-\u001b[39m  \u001b[96mT\u001b[39m  \n",
      "\u001b[96mG\u001b[39m  \u001b[91mC\u001b[39m  \u001b[96mA\u001b[39m  \u001b[91m-\u001b[39m  \u001b[96mT\u001b[39m  \u001b[35mG\u001b[39m  \u001b[96mC\u001b[39m  \u001b[91m-\u001b[39m  \u001b[91m-\u001b[39m  \u001b[35mU\u001b[39m  \u001b[96mA\u001b[39m  \u001b[91m-\u001b[39m  \u001b[35mT\u001b[39m  \u001b[96mG\u001b[39m  \u001b[96mG\u001b[39m  \u001b[96mA\u001b[39m  \u001b[91m-\u001b[39m  \u001b[35mA\u001b[39m  \u001b[96mA\u001b[39m  \u001b[96mC\u001b[39m  \u001b[96mG\u001b[39m  \u001b[91m-\u001b[39m  \u001b[91m-\u001b[39m  \u001b[35mG\u001b[39m  \u001b[35mC\u001b[39m  \u001b[96mA\u001b[39m  \u001b[35mT\u001b[39m  \u001b[96mG\u001b[39m  \u001b[35mC\u001b[39m  \u001b[96mT\u001b[39m  \u001b[96mT\u001b[39m  \u001b[96mA\u001b[39m  \u001b[35mA\u001b[39m  \u001b[96mG\u001b[39m  \u001b[35mC\u001b[39m  \u001b[96mC\u001b[39m  \u001b[96mC\u001b[39m  \u001b[35mC\u001b[39m  \u001b[96mA\u001b[39m  \u001b[96mA\u001b[39m  \u001b[96mA\u001b[39m  \u001b[91mT\u001b[39m  \u001b[91mG\u001b[39m  \u001b[96mT\u001b[39m  \u001b[91mG\u001b[39m  \u001b[91mC\u001b[39m  \u001b[91mC\u001b[39m  \u001b[91mG\u001b[39m  \u001b[91mG\u001b[39m  \u001b[96mT\u001b[39m  \n",
      "Score: -2\n"
     ]
    }
   ],
   "source": [
    "# an example of Danamic programming function\n",
    "seq1 = \"GATTACAAAAGGGGATTACGATTTACGATTAGGGCCTAAATT\"\n",
    "seq2 = \"GCATGCUATGGAAACGGCATGCTTAAGCCCCAAATGTGCCGGT\"\n",
    "\n",
    "@time alignment = needleman_wunsch(seq1, seq2, match_score=1, mismatch_penalty=-1, gap_penalty=-1)\n",
    "print_alignment(alignment[1], alignment[2])\n",
    "println(\"Score: \", alignment[3])"
   ]
  }
 ],
 "metadata": {
  "kernelspec": {
   "display_name": "Julia 1.10.3",
   "language": "julia",
   "name": "julia-1.10"
  },
  "language_info": {
   "file_extension": ".jl",
   "mimetype": "application/julia",
   "name": "julia",
   "version": "1.10.3"
  }
 },
 "nbformat": 4,
 "nbformat_minor": 2
}
