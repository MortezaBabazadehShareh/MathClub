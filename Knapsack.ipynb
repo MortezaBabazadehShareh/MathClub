{
 "cells": [
  {
   "cell_type": "code",
   "execution_count": 44,
   "metadata": {},
   "outputs": [
    {
     "data": {
      "text/plain": [
       "knapsack_dq (generic function with 1 method)"
      ]
     },
     "metadata": {},
     "output_type": "display_data"
    }
   ],
   "source": [
    "# Function to solve the 0/1 Knapsack problem recursively and return selected items\n",
    "function knapsack_dq(W, weights, values, n)\n",
    "    # Base case: no items left or no capacity left\n",
    "    if n == 0 || W == 0\n",
    "        return 0, []\n",
    "    end\n",
    "\n",
    "    # If the weight of the nth item is more than the knapsack capacity W,\n",
    "    # then this item cannot be included in the optimal solution\n",
    "    if weights[n] > W\n",
    "        return knapsack_dq(W, weights, values, n - 1)\n",
    "    else\n",
    "        # Solve the subproblem including the nth item\n",
    "        value_including_n, items_including_n = knapsack_dq(W - weights[n], weights, values, n - 1)\n",
    "        value_including_n += values[n]\n",
    "\n",
    "        # Solve the subproblem excluding the nth item\n",
    "        value_excluding_n, items_excluding_n = knapsack_dq(W, weights, values, n - 1)\n",
    "\n",
    "        # Compare the two cases and return the better result\n",
    "        if value_including_n > value_excluding_n\n",
    "            return value_including_n, [n; items_including_n]\n",
    "        else\n",
    "            return value_excluding_n, items_excluding_n\n",
    "        end\n",
    "    end\n",
    "end\n",
    "\n",
    "\n"
   ]
  },
  {
   "cell_type": "code",
   "execution_count": 7,
   "metadata": {},
   "outputs": [
    {
     "data": {
      "text/plain": [
       "knapsack_dp (generic function with 1 method)"
      ]
     },
     "metadata": {},
     "output_type": "display_data"
    }
   ],
   "source": [
    "# Function to solve the 0/1 Knapsack problem using dynamic programming\n",
    "function knapsack_dp(W, weights, values)\n",
    "    n = length(weights)\n",
    "    \n",
    "    # Create a 2D array to store the maximum value at each n, W\n",
    "    dp = zeros(Int, n + 1, W + 1)\n",
    "\n",
    "    # Build the dp array bottom-up\n",
    "    for i in 1:n\n",
    "        for w in 0:W\n",
    "            if weights[i] <= w\n",
    "                dp[i + 1, w + 1] = max(dp[i, w + 1], values[i] + dp[i, w - weights[i] + 1])\n",
    "            else\n",
    "                dp[i + 1, w + 1] = dp[i, w + 1]\n",
    "            end\n",
    "        end\n",
    "    end\n",
    "\n",
    "    # The maximum value is found at dp[n+1, W+1]\n",
    "    max_value = dp[n + 1, W + 1]\n",
    "\n",
    "    # Backtrack to find the items included in the optimal solution\n",
    "    selected_items = []\n",
    "    w = W\n",
    "    for i in n:-1:1\n",
    "        if dp[i + 1, w + 1] != dp[i, w + 1]\n",
    "            push!(selected_items, i)\n",
    "            w -= weights[i]\n",
    "        end\n",
    "    end\n",
    "\n",
    "    return max_value, reverse(selected_items)\n",
    "end"
   ]
  },
  {
   "cell_type": "code",
   "execution_count": 79,
   "metadata": {},
   "outputs": [
    {
     "name": "stdout",
     "output_type": "stream",
     "text": [
      "  0.560368 seconds (9.35 M allocations: 504.226 MiB, 7.94% gc time)\n",
      "\n",
      "weights:[40, 10, 20, 20, 50, 60, 80, 70, 70, 60, 70, 10, 10, 10, 90, 10, 90, 90, 30, 50, 30, 50, 100, 60, 10, 60, 20, 30, 40, 10]\n",
      "Values:[30, 80, 60, 70, 90, 20, 80, 90, 50, 80, 20, 80, 80, 50, 80, 40, 60, 20, 20, 10, 10, 60, 100, 10, 70, 40, 90, 40, 10, 70]\n",
      "\n",
      "Maximum value in Knapsack: 930\n",
      "Selected items: Any[2, 3, 4, 5, 8, 12, 13, 14, 16, 22, 25, 27, 30]\n"
     ]
    }
   ],
   "source": [
    "# Example usage\n",
    "using Random\n",
    "Random.seed!(10)\n",
    "weights =rand(1:10, 30) * 10 \n",
    "values = rand(1:10, 30) * 10\n",
    "W = 300\n",
    "n = length(weights)\n",
    "\n",
    "@time max_value, selected_items = knapsack_dq(W, weights, values, n)\n",
    "println(\"\\nweights:\", weights)\n",
    "println(\"Values:\", values)\n",
    "println(\"\\nMaximum value in Knapsack: \", max_value)\n",
    "println(\"Selected items: \", reverse(selected_items))"
   ]
  },
  {
   "cell_type": "code",
   "execution_count": 80,
   "metadata": {},
   "outputs": [
    {
     "name": "stdout",
     "output_type": "stream",
     "text": [
      "  0.000049 seconds (13 allocations: 73.781 KiB)\n",
      "\n",
      "weights:[40, 10, 20, 20, 50, 60, 80, 70, 70, 60, 70, 10, 10, 10, 90, 10, 90, 90, 30, 50, 30, 50, 100, 60, 10, 60, 20, 30, 40, 10]\n",
      "Values:[30, 80, 60, 70, 90, 20, 80, 90, 50, 80, 20, 80, 80, 50, 80, 40, 60, 20, 20, 10, 10, 60, 100, 10, 70, 40, 90, 40, 10, 70]\n",
      "\n",
      "Maximum value in Knapsack: 930\n",
      "Selected items: Any[30, 27, 25, 22, 16, 14, 13, 12, 8, 5, 4, 3, 2]\n"
     ]
    }
   ],
   "source": [
    "# Example usage\n",
    "using Random\n",
    "Random.seed!(10)\n",
    "weights =rand(1:10, 30) * 10\n",
    "values = rand(1:10, 30) * 10\n",
    "W = 300\n",
    "\n",
    "@time max_value, selected_items = knapsack_dp(W, weights, values)\n",
    "println(\"\\nweights:\", weights)\n",
    "println(\"Values:\", values)\n",
    "println(\"\\nMaximum value in Knapsack: \", max_value)\n",
    "println(\"Selected items: \", reverse(selected_items))"
   ]
  }
 ],
 "metadata": {
  "kernelspec": {
   "display_name": "Julia 1.10.3",
   "language": "julia",
   "name": "julia-1.10"
  },
  "language_info": {
   "file_extension": ".jl",
   "mimetype": "application/julia",
   "name": "julia",
   "version": "1.10.3"
  }
 },
 "nbformat": 4,
 "nbformat_minor": 2
}
